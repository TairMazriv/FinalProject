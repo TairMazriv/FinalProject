{
 "cells": [
  {
   "cell_type": "code",
   "execution_count": null,
   "metadata": {},
   "outputs": [],
   "source": [
    "# pip install opencv-python"
   ]
  },
  {
   "cell_type": "code",
   "execution_count": 32,
   "metadata": {},
   "outputs": [],
   "source": [
    "import numpy as np\n",
    "import pandas as pd\n",
    "import matplotlib.pyplot as plt\n",
    "import seaborn as sns\n",
    "import warnings\n",
    "warnings.filterwarnings(action='ignore', category=UserWarning)\n",
    "import os\n",
    "import cv2\n",
    "from sklearn.metrics import accuracy_score"
   ]
  },
  {
   "cell_type": "code",
   "execution_count": 11,
   "metadata": {},
   "outputs": [],
   "source": [
    "train_dir = r'C:\\\\Users\\\\User\\\\Downloads\\\\dataset\\\\dogs_vs_cats\\\\train'\n",
    "image_size = 100"
   ]
  },
  {
   "cell_type": "markdown",
   "metadata": {},
   "source": [
    "### Import the images and create a data frame with the pixels of the images:"
   ]
  },
  {
   "cell_type": "code",
   "execution_count": 36,
   "metadata": {},
   "outputs": [],
   "source": [
    "def label_img(img):\n",
    "    word_label = img.split('.')[-3]\n",
    "    if word_label == 'cat':return [0]\n",
    "    elif word_label == 'dog':return [1]"
   ]
  },
  {
   "cell_type": "code",
   "execution_count": 37,
   "metadata": {},
   "outputs": [],
   "source": [
    "def create_train_data():\n",
    "    training_data=[]\n",
    "    for img in (os.listdir(train_dir)):\n",
    "        label=label_img(img)\n",
    "        path=os.path.join(train_dir,img)\n",
    "        img=cv2.resize(cv2.imread(path,cv2.IMREAD_GRAYSCALE),(image_size,image_size))\n",
    "        training_data.append([img,label])\n",
    "    np.save('train_data.npy',training_data)\n",
    "    return training_data"
   ]
  },
  {
   "cell_type": "code",
   "execution_count": 40,
   "metadata": {},
   "outputs": [],
   "source": [
    "train_data = create_train_data()"
   ]
  },
  {
   "cell_type": "code",
   "execution_count": null,
   "metadata": {},
   "outputs": [],
   "source": [
    "def create_pic_row(i):\n",
    "    df2 = pd.DataFrame(train_data[i][0][0])\n",
    "    for x in range (1,100):\n",
    "        df3 = pd.DataFrame(train_data[i][0][x])\n",
    "        df2 = df2.append(df3)\n",
    "    df4 = pd.DataFrame(train_data[i][1])\n",
    "    df2 = df2.append(df4)\n",
    "    df2 = df2.T\n",
    "    return df2"
   ]
  },
  {
   "cell_type": "code",
   "execution_count": null,
   "metadata": {},
   "outputs": [],
   "source": [
    "df = create_pic_row(0)\n",
    "for i in range(1,24999):\n",
    "    count = i\n",
    "    df1 = create_pic_row(i) \n",
    "    df = df.append(df1) \n",
    "#     print(i)\n",
    "df"
   ]
  },
  {
   "cell_type": "code",
   "execution_count": null,
   "metadata": {},
   "outputs": [],
   "source": [
    "# Saving the Data Frame to a file:\n",
    "df.to_csv(r'C:\\Users\\User\\Downloads\\dataset\\Dogs vs Cats.csv', index = False)"
   ]
  },
  {
   "cell_type": "code",
   "execution_count": 2,
   "metadata": {},
   "outputs": [
    {
     "data": {
      "text/html": [
       "<div>\n",
       "<style scoped>\n",
       "    .dataframe tbody tr th:only-of-type {\n",
       "        vertical-align: middle;\n",
       "    }\n",
       "\n",
       "    .dataframe tbody tr th {\n",
       "        vertical-align: top;\n",
       "    }\n",
       "\n",
       "    .dataframe thead th {\n",
       "        text-align: right;\n",
       "    }\n",
       "</style>\n",
       "<table border=\"1\" class=\"dataframe\">\n",
       "  <thead>\n",
       "    <tr style=\"text-align: right;\">\n",
       "      <th></th>\n",
       "      <th>0</th>\n",
       "      <th>1</th>\n",
       "      <th>2</th>\n",
       "      <th>3</th>\n",
       "      <th>4</th>\n",
       "      <th>5</th>\n",
       "      <th>6</th>\n",
       "      <th>7</th>\n",
       "      <th>8</th>\n",
       "      <th>9</th>\n",
       "      <th>...</th>\n",
       "      <th>9991</th>\n",
       "      <th>9992</th>\n",
       "      <th>9993</th>\n",
       "      <th>9994</th>\n",
       "      <th>9995</th>\n",
       "      <th>9996</th>\n",
       "      <th>9997</th>\n",
       "      <th>9998</th>\n",
       "      <th>9999</th>\n",
       "      <th>10000</th>\n",
       "    </tr>\n",
       "  </thead>\n",
       "  <tbody>\n",
       "    <tr>\n",
       "      <th>0</th>\n",
       "      <td>168</td>\n",
       "      <td>174</td>\n",
       "      <td>177</td>\n",
       "      <td>181</td>\n",
       "      <td>185</td>\n",
       "      <td>188</td>\n",
       "      <td>190</td>\n",
       "      <td>193</td>\n",
       "      <td>196</td>\n",
       "      <td>198</td>\n",
       "      <td>...</td>\n",
       "      <td>3</td>\n",
       "      <td>3</td>\n",
       "      <td>2</td>\n",
       "      <td>2</td>\n",
       "      <td>2</td>\n",
       "      <td>2</td>\n",
       "      <td>2</td>\n",
       "      <td>2</td>\n",
       "      <td>2</td>\n",
       "      <td>0</td>\n",
       "    </tr>\n",
       "    <tr>\n",
       "      <th>1</th>\n",
       "      <td>43</td>\n",
       "      <td>44</td>\n",
       "      <td>43</td>\n",
       "      <td>42</td>\n",
       "      <td>52</td>\n",
       "      <td>34</td>\n",
       "      <td>51</td>\n",
       "      <td>40</td>\n",
       "      <td>39</td>\n",
       "      <td>63</td>\n",
       "      <td>...</td>\n",
       "      <td>47</td>\n",
       "      <td>50</td>\n",
       "      <td>49</td>\n",
       "      <td>55</td>\n",
       "      <td>63</td>\n",
       "      <td>64</td>\n",
       "      <td>89</td>\n",
       "      <td>19</td>\n",
       "      <td>36</td>\n",
       "      <td>0</td>\n",
       "    </tr>\n",
       "    <tr>\n",
       "      <th>2</th>\n",
       "      <td>39</td>\n",
       "      <td>25</td>\n",
       "      <td>43</td>\n",
       "      <td>49</td>\n",
       "      <td>47</td>\n",
       "      <td>57</td>\n",
       "      <td>58</td>\n",
       "      <td>54</td>\n",
       "      <td>53</td>\n",
       "      <td>59</td>\n",
       "      <td>...</td>\n",
       "      <td>158</td>\n",
       "      <td>150</td>\n",
       "      <td>133</td>\n",
       "      <td>135</td>\n",
       "      <td>145</td>\n",
       "      <td>160</td>\n",
       "      <td>169</td>\n",
       "      <td>171</td>\n",
       "      <td>153</td>\n",
       "      <td>0</td>\n",
       "    </tr>\n",
       "    <tr>\n",
       "      <th>3</th>\n",
       "      <td>221</td>\n",
       "      <td>224</td>\n",
       "      <td>222</td>\n",
       "      <td>228</td>\n",
       "      <td>229</td>\n",
       "      <td>224</td>\n",
       "      <td>224</td>\n",
       "      <td>235</td>\n",
       "      <td>229</td>\n",
       "      <td>227</td>\n",
       "      <td>...</td>\n",
       "      <td>212</td>\n",
       "      <td>204</td>\n",
       "      <td>204</td>\n",
       "      <td>203</td>\n",
       "      <td>215</td>\n",
       "      <td>222</td>\n",
       "      <td>217</td>\n",
       "      <td>211</td>\n",
       "      <td>213</td>\n",
       "      <td>0</td>\n",
       "    </tr>\n",
       "    <tr>\n",
       "      <th>4</th>\n",
       "      <td>115</td>\n",
       "      <td>119</td>\n",
       "      <td>122</td>\n",
       "      <td>91</td>\n",
       "      <td>83</td>\n",
       "      <td>95</td>\n",
       "      <td>132</td>\n",
       "      <td>131</td>\n",
       "      <td>149</td>\n",
       "      <td>180</td>\n",
       "      <td>...</td>\n",
       "      <td>96</td>\n",
       "      <td>97</td>\n",
       "      <td>94</td>\n",
       "      <td>100</td>\n",
       "      <td>119</td>\n",
       "      <td>95</td>\n",
       "      <td>90</td>\n",
       "      <td>95</td>\n",
       "      <td>82</td>\n",
       "      <td>0</td>\n",
       "    </tr>\n",
       "    <tr>\n",
       "      <th>...</th>\n",
       "      <td>...</td>\n",
       "      <td>...</td>\n",
       "      <td>...</td>\n",
       "      <td>...</td>\n",
       "      <td>...</td>\n",
       "      <td>...</td>\n",
       "      <td>...</td>\n",
       "      <td>...</td>\n",
       "      <td>...</td>\n",
       "      <td>...</td>\n",
       "      <td>...</td>\n",
       "      <td>...</td>\n",
       "      <td>...</td>\n",
       "      <td>...</td>\n",
       "      <td>...</td>\n",
       "      <td>...</td>\n",
       "      <td>...</td>\n",
       "      <td>...</td>\n",
       "      <td>...</td>\n",
       "      <td>...</td>\n",
       "      <td>...</td>\n",
       "    </tr>\n",
       "    <tr>\n",
       "      <th>24994</th>\n",
       "      <td>122</td>\n",
       "      <td>128</td>\n",
       "      <td>124</td>\n",
       "      <td>125</td>\n",
       "      <td>127</td>\n",
       "      <td>129</td>\n",
       "      <td>130</td>\n",
       "      <td>128</td>\n",
       "      <td>125</td>\n",
       "      <td>122</td>\n",
       "      <td>...</td>\n",
       "      <td>49</td>\n",
       "      <td>49</td>\n",
       "      <td>45</td>\n",
       "      <td>32</td>\n",
       "      <td>32</td>\n",
       "      <td>35</td>\n",
       "      <td>26</td>\n",
       "      <td>21</td>\n",
       "      <td>17</td>\n",
       "      <td>1</td>\n",
       "    </tr>\n",
       "    <tr>\n",
       "      <th>24995</th>\n",
       "      <td>140</td>\n",
       "      <td>143</td>\n",
       "      <td>142</td>\n",
       "      <td>145</td>\n",
       "      <td>146</td>\n",
       "      <td>147</td>\n",
       "      <td>148</td>\n",
       "      <td>149</td>\n",
       "      <td>148</td>\n",
       "      <td>149</td>\n",
       "      <td>...</td>\n",
       "      <td>165</td>\n",
       "      <td>166</td>\n",
       "      <td>166</td>\n",
       "      <td>167</td>\n",
       "      <td>168</td>\n",
       "      <td>168</td>\n",
       "      <td>168</td>\n",
       "      <td>168</td>\n",
       "      <td>169</td>\n",
       "      <td>1</td>\n",
       "    </tr>\n",
       "    <tr>\n",
       "      <th>24996</th>\n",
       "      <td>117</td>\n",
       "      <td>78</td>\n",
       "      <td>102</td>\n",
       "      <td>83</td>\n",
       "      <td>101</td>\n",
       "      <td>113</td>\n",
       "      <td>69</td>\n",
       "      <td>85</td>\n",
       "      <td>86</td>\n",
       "      <td>86</td>\n",
       "      <td>...</td>\n",
       "      <td>97</td>\n",
       "      <td>77</td>\n",
       "      <td>100</td>\n",
       "      <td>84</td>\n",
       "      <td>77</td>\n",
       "      <td>85</td>\n",
       "      <td>93</td>\n",
       "      <td>94</td>\n",
       "      <td>74</td>\n",
       "      <td>1</td>\n",
       "    </tr>\n",
       "    <tr>\n",
       "      <th>24997</th>\n",
       "      <td>42</td>\n",
       "      <td>35</td>\n",
       "      <td>47</td>\n",
       "      <td>58</td>\n",
       "      <td>65</td>\n",
       "      <td>46</td>\n",
       "      <td>51</td>\n",
       "      <td>57</td>\n",
       "      <td>58</td>\n",
       "      <td>40</td>\n",
       "      <td>...</td>\n",
       "      <td>133</td>\n",
       "      <td>130</td>\n",
       "      <td>125</td>\n",
       "      <td>70</td>\n",
       "      <td>113</td>\n",
       "      <td>182</td>\n",
       "      <td>127</td>\n",
       "      <td>113</td>\n",
       "      <td>167</td>\n",
       "      <td>1</td>\n",
       "    </tr>\n",
       "    <tr>\n",
       "      <th>24998</th>\n",
       "      <td>254</td>\n",
       "      <td>251</td>\n",
       "      <td>245</td>\n",
       "      <td>234</td>\n",
       "      <td>224</td>\n",
       "      <td>207</td>\n",
       "      <td>189</td>\n",
       "      <td>144</td>\n",
       "      <td>112</td>\n",
       "      <td>75</td>\n",
       "      <td>...</td>\n",
       "      <td>102</td>\n",
       "      <td>107</td>\n",
       "      <td>114</td>\n",
       "      <td>111</td>\n",
       "      <td>111</td>\n",
       "      <td>107</td>\n",
       "      <td>116</td>\n",
       "      <td>114</td>\n",
       "      <td>121</td>\n",
       "      <td>1</td>\n",
       "    </tr>\n",
       "  </tbody>\n",
       "</table>\n",
       "<p>24999 rows × 10001 columns</p>\n",
       "</div>"
      ],
      "text/plain": [
       "         0    1    2    3    4    5    6    7    8    9  ...  9991  9992  \\\n",
       "0      168  174  177  181  185  188  190  193  196  198  ...     3     3   \n",
       "1       43   44   43   42   52   34   51   40   39   63  ...    47    50   \n",
       "2       39   25   43   49   47   57   58   54   53   59  ...   158   150   \n",
       "3      221  224  222  228  229  224  224  235  229  227  ...   212   204   \n",
       "4      115  119  122   91   83   95  132  131  149  180  ...    96    97   \n",
       "...    ...  ...  ...  ...  ...  ...  ...  ...  ...  ...  ...   ...   ...   \n",
       "24994  122  128  124  125  127  129  130  128  125  122  ...    49    49   \n",
       "24995  140  143  142  145  146  147  148  149  148  149  ...   165   166   \n",
       "24996  117   78  102   83  101  113   69   85   86   86  ...    97    77   \n",
       "24997   42   35   47   58   65   46   51   57   58   40  ...   133   130   \n",
       "24998  254  251  245  234  224  207  189  144  112   75  ...   102   107   \n",
       "\n",
       "       9993  9994  9995  9996  9997  9998  9999  10000  \n",
       "0         2     2     2     2     2     2     2      0  \n",
       "1        49    55    63    64    89    19    36      0  \n",
       "2       133   135   145   160   169   171   153      0  \n",
       "3       204   203   215   222   217   211   213      0  \n",
       "4        94   100   119    95    90    95    82      0  \n",
       "...     ...   ...   ...   ...   ...   ...   ...    ...  \n",
       "24994    45    32    32    35    26    21    17      1  \n",
       "24995   166   167   168   168   168   168   169      1  \n",
       "24996   100    84    77    85    93    94    74      1  \n",
       "24997   125    70   113   182   127   113   167      1  \n",
       "24998   114   111   111   107   116   114   121      1  \n",
       "\n",
       "[24999 rows x 10001 columns]"
      ]
     },
     "execution_count": 2,
     "metadata": {},
     "output_type": "execute_result"
    }
   ],
   "source": [
    "# Opening of the Data Frame:\n",
    "df = pd.read_csv(r'C:\\Users\\User\\Downloads\\dataset\\Dogs vs Cats.csv')\n",
    "df"
   ]
  },
  {
   "cell_type": "code",
   "execution_count": 3,
   "metadata": {},
   "outputs": [],
   "source": [
    "# Change the range of rows and columns:\n",
    "rows = np.arange(0,24999)\n",
    "columns = np.arange(0,10001)\n",
    "df = df.set_axis(columns, axis='columns')\n",
    "df = df.set_index(rows)"
   ]
  },
  {
   "cell_type": "code",
   "execution_count": 4,
   "metadata": {},
   "outputs": [
    {
     "data": {
      "text/html": [
       "<div>\n",
       "<style scoped>\n",
       "    .dataframe tbody tr th:only-of-type {\n",
       "        vertical-align: middle;\n",
       "    }\n",
       "\n",
       "    .dataframe tbody tr th {\n",
       "        vertical-align: top;\n",
       "    }\n",
       "\n",
       "    .dataframe thead th {\n",
       "        text-align: right;\n",
       "    }\n",
       "</style>\n",
       "<table border=\"1\" class=\"dataframe\">\n",
       "  <thead>\n",
       "    <tr style=\"text-align: right;\">\n",
       "      <th></th>\n",
       "      <th>0</th>\n",
       "      <th>1</th>\n",
       "      <th>2</th>\n",
       "      <th>3</th>\n",
       "      <th>4</th>\n",
       "      <th>5</th>\n",
       "      <th>6</th>\n",
       "      <th>7</th>\n",
       "      <th>8</th>\n",
       "      <th>9</th>\n",
       "      <th>...</th>\n",
       "      <th>9991</th>\n",
       "      <th>9992</th>\n",
       "      <th>9993</th>\n",
       "      <th>9994</th>\n",
       "      <th>9995</th>\n",
       "      <th>9996</th>\n",
       "      <th>9997</th>\n",
       "      <th>9998</th>\n",
       "      <th>9999</th>\n",
       "      <th>label</th>\n",
       "    </tr>\n",
       "  </thead>\n",
       "  <tbody>\n",
       "    <tr>\n",
       "      <th>0</th>\n",
       "      <td>168</td>\n",
       "      <td>174</td>\n",
       "      <td>177</td>\n",
       "      <td>181</td>\n",
       "      <td>185</td>\n",
       "      <td>188</td>\n",
       "      <td>190</td>\n",
       "      <td>193</td>\n",
       "      <td>196</td>\n",
       "      <td>198</td>\n",
       "      <td>...</td>\n",
       "      <td>3</td>\n",
       "      <td>3</td>\n",
       "      <td>2</td>\n",
       "      <td>2</td>\n",
       "      <td>2</td>\n",
       "      <td>2</td>\n",
       "      <td>2</td>\n",
       "      <td>2</td>\n",
       "      <td>2</td>\n",
       "      <td>0</td>\n",
       "    </tr>\n",
       "    <tr>\n",
       "      <th>1</th>\n",
       "      <td>43</td>\n",
       "      <td>44</td>\n",
       "      <td>43</td>\n",
       "      <td>42</td>\n",
       "      <td>52</td>\n",
       "      <td>34</td>\n",
       "      <td>51</td>\n",
       "      <td>40</td>\n",
       "      <td>39</td>\n",
       "      <td>63</td>\n",
       "      <td>...</td>\n",
       "      <td>47</td>\n",
       "      <td>50</td>\n",
       "      <td>49</td>\n",
       "      <td>55</td>\n",
       "      <td>63</td>\n",
       "      <td>64</td>\n",
       "      <td>89</td>\n",
       "      <td>19</td>\n",
       "      <td>36</td>\n",
       "      <td>0</td>\n",
       "    </tr>\n",
       "    <tr>\n",
       "      <th>2</th>\n",
       "      <td>39</td>\n",
       "      <td>25</td>\n",
       "      <td>43</td>\n",
       "      <td>49</td>\n",
       "      <td>47</td>\n",
       "      <td>57</td>\n",
       "      <td>58</td>\n",
       "      <td>54</td>\n",
       "      <td>53</td>\n",
       "      <td>59</td>\n",
       "      <td>...</td>\n",
       "      <td>158</td>\n",
       "      <td>150</td>\n",
       "      <td>133</td>\n",
       "      <td>135</td>\n",
       "      <td>145</td>\n",
       "      <td>160</td>\n",
       "      <td>169</td>\n",
       "      <td>171</td>\n",
       "      <td>153</td>\n",
       "      <td>0</td>\n",
       "    </tr>\n",
       "    <tr>\n",
       "      <th>3</th>\n",
       "      <td>221</td>\n",
       "      <td>224</td>\n",
       "      <td>222</td>\n",
       "      <td>228</td>\n",
       "      <td>229</td>\n",
       "      <td>224</td>\n",
       "      <td>224</td>\n",
       "      <td>235</td>\n",
       "      <td>229</td>\n",
       "      <td>227</td>\n",
       "      <td>...</td>\n",
       "      <td>212</td>\n",
       "      <td>204</td>\n",
       "      <td>204</td>\n",
       "      <td>203</td>\n",
       "      <td>215</td>\n",
       "      <td>222</td>\n",
       "      <td>217</td>\n",
       "      <td>211</td>\n",
       "      <td>213</td>\n",
       "      <td>0</td>\n",
       "    </tr>\n",
       "    <tr>\n",
       "      <th>4</th>\n",
       "      <td>115</td>\n",
       "      <td>119</td>\n",
       "      <td>122</td>\n",
       "      <td>91</td>\n",
       "      <td>83</td>\n",
       "      <td>95</td>\n",
       "      <td>132</td>\n",
       "      <td>131</td>\n",
       "      <td>149</td>\n",
       "      <td>180</td>\n",
       "      <td>...</td>\n",
       "      <td>96</td>\n",
       "      <td>97</td>\n",
       "      <td>94</td>\n",
       "      <td>100</td>\n",
       "      <td>119</td>\n",
       "      <td>95</td>\n",
       "      <td>90</td>\n",
       "      <td>95</td>\n",
       "      <td>82</td>\n",
       "      <td>0</td>\n",
       "    </tr>\n",
       "    <tr>\n",
       "      <th>...</th>\n",
       "      <td>...</td>\n",
       "      <td>...</td>\n",
       "      <td>...</td>\n",
       "      <td>...</td>\n",
       "      <td>...</td>\n",
       "      <td>...</td>\n",
       "      <td>...</td>\n",
       "      <td>...</td>\n",
       "      <td>...</td>\n",
       "      <td>...</td>\n",
       "      <td>...</td>\n",
       "      <td>...</td>\n",
       "      <td>...</td>\n",
       "      <td>...</td>\n",
       "      <td>...</td>\n",
       "      <td>...</td>\n",
       "      <td>...</td>\n",
       "      <td>...</td>\n",
       "      <td>...</td>\n",
       "      <td>...</td>\n",
       "      <td>...</td>\n",
       "    </tr>\n",
       "    <tr>\n",
       "      <th>24994</th>\n",
       "      <td>122</td>\n",
       "      <td>128</td>\n",
       "      <td>124</td>\n",
       "      <td>125</td>\n",
       "      <td>127</td>\n",
       "      <td>129</td>\n",
       "      <td>130</td>\n",
       "      <td>128</td>\n",
       "      <td>125</td>\n",
       "      <td>122</td>\n",
       "      <td>...</td>\n",
       "      <td>49</td>\n",
       "      <td>49</td>\n",
       "      <td>45</td>\n",
       "      <td>32</td>\n",
       "      <td>32</td>\n",
       "      <td>35</td>\n",
       "      <td>26</td>\n",
       "      <td>21</td>\n",
       "      <td>17</td>\n",
       "      <td>1</td>\n",
       "    </tr>\n",
       "    <tr>\n",
       "      <th>24995</th>\n",
       "      <td>140</td>\n",
       "      <td>143</td>\n",
       "      <td>142</td>\n",
       "      <td>145</td>\n",
       "      <td>146</td>\n",
       "      <td>147</td>\n",
       "      <td>148</td>\n",
       "      <td>149</td>\n",
       "      <td>148</td>\n",
       "      <td>149</td>\n",
       "      <td>...</td>\n",
       "      <td>165</td>\n",
       "      <td>166</td>\n",
       "      <td>166</td>\n",
       "      <td>167</td>\n",
       "      <td>168</td>\n",
       "      <td>168</td>\n",
       "      <td>168</td>\n",
       "      <td>168</td>\n",
       "      <td>169</td>\n",
       "      <td>1</td>\n",
       "    </tr>\n",
       "    <tr>\n",
       "      <th>24996</th>\n",
       "      <td>117</td>\n",
       "      <td>78</td>\n",
       "      <td>102</td>\n",
       "      <td>83</td>\n",
       "      <td>101</td>\n",
       "      <td>113</td>\n",
       "      <td>69</td>\n",
       "      <td>85</td>\n",
       "      <td>86</td>\n",
       "      <td>86</td>\n",
       "      <td>...</td>\n",
       "      <td>97</td>\n",
       "      <td>77</td>\n",
       "      <td>100</td>\n",
       "      <td>84</td>\n",
       "      <td>77</td>\n",
       "      <td>85</td>\n",
       "      <td>93</td>\n",
       "      <td>94</td>\n",
       "      <td>74</td>\n",
       "      <td>1</td>\n",
       "    </tr>\n",
       "    <tr>\n",
       "      <th>24997</th>\n",
       "      <td>42</td>\n",
       "      <td>35</td>\n",
       "      <td>47</td>\n",
       "      <td>58</td>\n",
       "      <td>65</td>\n",
       "      <td>46</td>\n",
       "      <td>51</td>\n",
       "      <td>57</td>\n",
       "      <td>58</td>\n",
       "      <td>40</td>\n",
       "      <td>...</td>\n",
       "      <td>133</td>\n",
       "      <td>130</td>\n",
       "      <td>125</td>\n",
       "      <td>70</td>\n",
       "      <td>113</td>\n",
       "      <td>182</td>\n",
       "      <td>127</td>\n",
       "      <td>113</td>\n",
       "      <td>167</td>\n",
       "      <td>1</td>\n",
       "    </tr>\n",
       "    <tr>\n",
       "      <th>24998</th>\n",
       "      <td>254</td>\n",
       "      <td>251</td>\n",
       "      <td>245</td>\n",
       "      <td>234</td>\n",
       "      <td>224</td>\n",
       "      <td>207</td>\n",
       "      <td>189</td>\n",
       "      <td>144</td>\n",
       "      <td>112</td>\n",
       "      <td>75</td>\n",
       "      <td>...</td>\n",
       "      <td>102</td>\n",
       "      <td>107</td>\n",
       "      <td>114</td>\n",
       "      <td>111</td>\n",
       "      <td>111</td>\n",
       "      <td>107</td>\n",
       "      <td>116</td>\n",
       "      <td>114</td>\n",
       "      <td>121</td>\n",
       "      <td>1</td>\n",
       "    </tr>\n",
       "  </tbody>\n",
       "</table>\n",
       "<p>24999 rows × 10001 columns</p>\n",
       "</div>"
      ],
      "text/plain": [
       "         0    1    2    3    4    5    6    7    8    9  ...  9991  9992  \\\n",
       "0      168  174  177  181  185  188  190  193  196  198  ...     3     3   \n",
       "1       43   44   43   42   52   34   51   40   39   63  ...    47    50   \n",
       "2       39   25   43   49   47   57   58   54   53   59  ...   158   150   \n",
       "3      221  224  222  228  229  224  224  235  229  227  ...   212   204   \n",
       "4      115  119  122   91   83   95  132  131  149  180  ...    96    97   \n",
       "...    ...  ...  ...  ...  ...  ...  ...  ...  ...  ...  ...   ...   ...   \n",
       "24994  122  128  124  125  127  129  130  128  125  122  ...    49    49   \n",
       "24995  140  143  142  145  146  147  148  149  148  149  ...   165   166   \n",
       "24996  117   78  102   83  101  113   69   85   86   86  ...    97    77   \n",
       "24997   42   35   47   58   65   46   51   57   58   40  ...   133   130   \n",
       "24998  254  251  245  234  224  207  189  144  112   75  ...   102   107   \n",
       "\n",
       "       9993  9994  9995  9996  9997  9998  9999  label  \n",
       "0         2     2     2     2     2     2     2      0  \n",
       "1        49    55    63    64    89    19    36      0  \n",
       "2       133   135   145   160   169   171   153      0  \n",
       "3       204   203   215   222   217   211   213      0  \n",
       "4        94   100   119    95    90    95    82      0  \n",
       "...     ...   ...   ...   ...   ...   ...   ...    ...  \n",
       "24994    45    32    32    35    26    21    17      1  \n",
       "24995   166   167   168   168   168   168   169      1  \n",
       "24996   100    84    77    85    93    94    74      1  \n",
       "24997   125    70   113   182   127   113   167      1  \n",
       "24998   114   111   111   107   116   114   121      1  \n",
       "\n",
       "[24999 rows x 10001 columns]"
      ]
     },
     "execution_count": 4,
     "metadata": {},
     "output_type": "execute_result"
    }
   ],
   "source": [
    "# Rename the column of the label:\n",
    "df = df.rename(columns={10000: 'label'})\n",
    "df"
   ]
  },
  {
   "cell_type": "markdown",
   "metadata": {},
   "source": [
    "# Division of data:"
   ]
  },
  {
   "cell_type": "code",
   "execution_count": 5,
   "metadata": {},
   "outputs": [
    {
     "name": "stdout",
     "output_type": "stream",
     "text": [
      "(14061, 10000) (4688, 10000) (6250, 10000)\n",
      "(14061,) (4688,) (6250,)\n"
     ]
    }
   ],
   "source": [
    "# from sklearn.preprocessing import StandardScaler\n",
    "# scaler = StandardScaler()\n",
    "from sklearn.model_selection import train_test_split\n",
    "x = df.drop(labels = ['label'], axis=1)\n",
    "# a = scaler.fit_transform(x) # StandardScaler on the train\n",
    "# x = pd.DataFrame(a, columns=x.columns)\n",
    "y = df.label\n",
    "X, X_Test, Y, Y_Test = train_test_split(x, y,random_state=2) # Division into the final test\n",
    "x_train, x_test, y_train, y_test = train_test_split(X, Y,random_state=2) # Division into validation\n",
    "print (x_train.shape, x_test.shape, X_Test.shape)\n",
    "print(y_train.shape, y_test.shape, Y_Test.shape)"
   ]
  },
  {
   "cell_type": "markdown",
   "metadata": {},
   "source": [
    "# PCA (cumsum)"
   ]
  },
  {
   "cell_type": "code",
   "execution_count": 41,
   "metadata": {},
   "outputs": [
    {
     "name": "stdout",
     "output_type": "stream",
     "text": [
      "(14061, 138) (4688, 138)\n"
     ]
    }
   ],
   "source": [
    "from sklearn.decomposition import PCA\n",
    "pca = PCA()\n",
    "pca.fit(x_train)\n",
    "cumsum = np.cumsum(pca.explained_variance_ratio_)\n",
    "d = np.argmax(cumsum >= 0.85) + 1\n",
    "pca = PCA(n_components=0.85)\n",
    "X_train = pca.fit_transform(x_train)\n",
    "X_test = pca.transform(x_test)\n",
    "print (X_train.shape, X_test.shape)"
   ]
  },
  {
   "cell_type": "markdown",
   "metadata": {},
   "source": [
    "# KNN:"
   ]
  },
  {
   "cell_type": "code",
   "execution_count": 42,
   "metadata": {},
   "outputs": [
    {
     "name": "stdout",
     "output_type": "stream",
     "text": [
      "KNN accuracy: 58.91638225255973%\n"
     ]
    }
   ],
   "source": [
    "from sklearn.neighbors import KNeighborsClassifier\n",
    "knn = KNeighborsClassifier(n_neighbors = 5)\n",
    "knn.fit(X_train, y_train)\n",
    "knn_predict = knn.predict(X_test)\n",
    "knn_accuracy = accuracy_score(y_test, knn_predict)*100\n",
    "print (\"KNN accuracy: \" + str(knn_accuracy) + \"%\")"
   ]
  },
  {
   "cell_type": "markdown",
   "metadata": {},
   "source": [
    "# Decision Tree:"
   ]
  },
  {
   "cell_type": "code",
   "execution_count": 43,
   "metadata": {},
   "outputs": [
    {
     "name": "stdout",
     "output_type": "stream",
     "text": [
      "Decision Tree accuracy: 54.62883959044369%\n"
     ]
    }
   ],
   "source": [
    "from sklearn import tree\n",
    "clf = tree.DecisionTreeClassifier()\n",
    "clf = clf.fit(X_train, y_train)\n",
    "clf_predict = clf.predict(X_test)\n",
    "clf_accuracy = accuracy_score(y_test, clf_predict)*100\n",
    "print (\"Decision Tree accuracy: \" + str(clf_accuracy) + \"%\")"
   ]
  },
  {
   "cell_type": "markdown",
   "metadata": {},
   "source": [
    "# Random Forest:"
   ]
  },
  {
   "cell_type": "code",
   "execution_count": 44,
   "metadata": {},
   "outputs": [
    {
     "name": "stdout",
     "output_type": "stream",
     "text": [
      "random forest accuracy: 61.902730375426614%\n"
     ]
    }
   ],
   "source": [
    "from sklearn.ensemble import RandomForestClassifier\n",
    "ran = RandomForestClassifier(max_depth=10)\n",
    "ran.fit(X_train, y_train)\n",
    "ran_predict = ran.predict(X_test)\n",
    "ran_accuracy = accuracy_score(y_test, ran_predict)*100\n",
    "print (\"random forest accuracy: \" + str(ran_accuracy) + \"%\")"
   ]
  },
  {
   "cell_type": "markdown",
   "metadata": {},
   "source": [
    "# AdaBoost:"
   ]
  },
  {
   "cell_type": "code",
   "execution_count": 45,
   "metadata": {},
   "outputs": [
    {
     "name": "stdout",
     "output_type": "stream",
     "text": [
      "AdaBoost accuracy: 60.49488054607508%\n"
     ]
    }
   ],
   "source": [
    "from sklearn.ensemble import AdaBoostClassifier\n",
    "from sklearn.datasets import make_classification\n",
    "ada = AdaBoostClassifier(n_estimators=1000, random_state=0)\n",
    "ada.fit(X_train, y_train)\n",
    "AdaBoostClassifier(n_estimators=1000, random_state=0)\n",
    "ada_predict = ada.predict(X_test)\n",
    "ada_accuracy = accuracy_score(y_test, ada_predict)*100\n",
    "print (\"AdaBoost accuracy: \" + str(ada_accuracy) + \"%\")"
   ]
  },
  {
   "cell_type": "markdown",
   "metadata": {},
   "source": [
    "# XGBoost:"
   ]
  },
  {
   "cell_type": "code",
   "execution_count": 46,
   "metadata": {},
   "outputs": [
    {
     "name": "stdout",
     "output_type": "stream",
     "text": [
      "XGBoost accuracy: 62.755972696245735%\n"
     ]
    }
   ],
   "source": [
    "from xgboost import XGBClassifier\n",
    "xgb = XGBClassifier(eval_metric='mlogloss')\n",
    "xgb.fit(X_train, y_train)\n",
    "xgb_predict = xgb.predict(X_test)\n",
    "xgb_accuracy = accuracy_score(y_test, xgb_predict)*100\n",
    "print (\"XGBoost accuracy: \" + str(xgb_accuracy) + \"%\")"
   ]
  },
  {
   "cell_type": "markdown",
   "metadata": {},
   "source": [
    "# Stacking:"
   ]
  },
  {
   "cell_type": "code",
   "execution_count": 47,
   "metadata": {},
   "outputs": [
    {
     "name": "stdout",
     "output_type": "stream",
     "text": [
      "Stacking accuracy: 58.31911262798635%\n"
     ]
    }
   ],
   "source": [
    "from sklearn.ensemble import RandomForestClassifier\n",
    "from sklearn.svm import LinearSVC\n",
    "from sklearn.linear_model import LogisticRegression\n",
    "from sklearn.preprocessing import StandardScaler\n",
    "from sklearn.pipeline import make_pipeline\n",
    "from sklearn.ensemble import StackingClassifier\n",
    "estimators = [('rf', RandomForestClassifier(n_estimators=10, random_state=42)), ('svr', make_pipeline(StandardScaler(), LinearSVC(random_state=42)))]\n",
    "sta = StackingClassifier(estimators = estimators, final_estimator=LogisticRegression())\n",
    "sta.fit(X_train, y_train)\n",
    "sta_predict = sta.predict(X_test)\n",
    "sta_accuracy = accuracy_score(y_test, sta_predict)*100\n",
    "print (\"Stacking accuracy: \" + str(sta_accuracy) + \"%\")"
   ]
  },
  {
   "cell_type": "markdown",
   "metadata": {},
   "source": [
    "# Voting:"
   ]
  },
  {
   "cell_type": "code",
   "execution_count": 48,
   "metadata": {},
   "outputs": [
    {
     "name": "stdout",
     "output_type": "stream",
     "text": [
      "Voting accuracy: 62.03071672354948%\n"
     ]
    }
   ],
   "source": [
    "from sklearn.naive_bayes import GaussianNB\n",
    "from sklearn.neighbors import KNeighborsClassifier\n",
    "from sklearn.ensemble import RandomForestClassifier, VotingClassifier\n",
    "from sklearn import tree\n",
    "clf1 = KNeighborsClassifier(n_neighbors=2)\n",
    "clf2 = RandomForestClassifier(n_estimators=50, random_state=1)\n",
    "clf3 = GaussianNB()\n",
    "vot = VotingClassifier(estimators=[('lr', clf1), ('rf', clf2), ('gnb', clf3)], voting='soft')\n",
    "vot.fit(X_train, y_train)\n",
    "vot_predict = vot.predict(X_test)\n",
    "vot_accuracy = accuracy_score(y_test, vot_predict)*100\n",
    "print (\"Voting accuracy: \" + str(vot_accuracy) + \"%\")"
   ]
  },
  {
   "cell_type": "markdown",
   "metadata": {},
   "source": [
    "# Pipeline:"
   ]
  },
  {
   "cell_type": "code",
   "execution_count": 49,
   "metadata": {},
   "outputs": [
    {
     "name": "stdout",
     "output_type": "stream",
     "text": [
      "Pipeline accuracy: 68.38737201365188%\n"
     ]
    }
   ],
   "source": [
    "from sklearn.svm import SVC\n",
    "from sklearn.preprocessing import StandardScaler\n",
    "from sklearn.datasets import make_classification\n",
    "from sklearn.model_selection import train_test_split\n",
    "from sklearn.pipeline import Pipeline\n",
    "pip = Pipeline([('scaler', StandardScaler()), ('svc', SVC())])\n",
    "pip.fit(X_train, y_train)\n",
    "pip_predict = pip.predict(X_test)\n",
    "pip_accuracy = accuracy_score(y_test, pip_predict)*100\n",
    "print (\"Pipeline accuracy: \" + str(pip_accuracy) + \"%\")"
   ]
  },
  {
   "cell_type": "markdown",
   "metadata": {},
   "source": [
    "# KMeans:"
   ]
  },
  {
   "cell_type": "code",
   "execution_count": 50,
   "metadata": {},
   "outputs": [
    {
     "name": "stdout",
     "output_type": "stream",
     "text": [
      "KMeans accuracy: 9.74829351535836%\n"
     ]
    }
   ],
   "source": [
    "from sklearn.cluster import KMeans\n",
    "kme = KMeans(n_clusters=10)\n",
    "kme.fit(X_train, y_train)\n",
    "kme_predict = kme.predict(X_test)\n",
    "kme_accuracy = accuracy_score(y_test, kme_predict)*100\n",
    "print (\"KMeans accuracy: \" + str(kme_accuracy) + \"%\")"
   ]
  },
  {
   "cell_type": "markdown",
   "metadata": {},
   "source": [
    "# Comparison between the models after PCA 138:"
   ]
  },
  {
   "cell_type": "code",
   "execution_count": 51,
   "metadata": {},
   "outputs": [
    {
     "data": {
      "text/plain": [
       "Text(0, 0.5, 'Accuracy (%)')"
      ]
     },
     "execution_count": 51,
     "metadata": {},
     "output_type": "execute_result"
    },
    {
     "data": {
      "image/png": "[encoded data removed]",
      "text/plain": [
       "<Figure size 432x288 with 1 Axes>"
      ]
     },
     "metadata": {
      "needs_background": "light"
     },
     "output_type": "display_data"
    }
   ],
   "source": [
    "arrX = ['KMeans','Decision Tree', 'Stacking', 'KNN', 'AdaBoost', 'Voting', 'XGBoost', 'Random Forest', 'Pipeline']\n",
    "arrY = [kme_accuracy, clf_accuracy, sta_accuracy, knn_accuracy, ada_accuracy, vot_accuracy, xgb_accuracy, ran_accuracy, pip_accuracy]\n",
    "plt.plot (arrX, arrY, 'r--')\n",
    "plt.title('accuracy score')\n",
    "plt.yticks(np.arange(10,100,5))\n",
    "plt.xlabel(\"Model\")\n",
    "plt.ylabel(\"Accuracy (%)\")"
   ]
  },
  {
   "cell_type": "markdown",
   "metadata": {},
   "source": [
    "I will show the confusion metrix of the 4 models with the best accuracies after pca 139:"
   ]
  },
  {
   "cell_type": "markdown",
   "metadata": {},
   "source": [
    "# confusion_matrix after PCA 139:"
   ]
  },
  {
   "cell_type": "code",
   "execution_count": 52,
   "metadata": {},
   "outputs": [],
   "source": [
    "from sklearn import metrics\n",
    "pip_confusion = metrics.confusion_matrix(y_test, pip_predict)\n",
    "ran_confusion = metrics.confusion_matrix(y_test, ran_predict)\n",
    "vot_confusion = metrics.confusion_matrix(y_test, vot_predict)\n",
    "xgb_confusion = metrics.confusion_matrix(y_test, xgb_predict)"
   ]
  },
  {
   "cell_type": "code",
   "execution_count": 53,
   "metadata": {},
   "outputs": [
    {
     "name": "stdout",
     "output_type": "stream",
     "text": [
      "0=cat 1=dog\n"
     ]
    },
    {
     "data": {
      "image/png": "[encoded data removed]",
      "text/plain": [
       "<Figure size 864x864 with 4 Axes>"
      ]
     },
     "metadata": {
      "needs_background": "light"
     },
     "output_type": "display_data"
    }
   ],
   "source": [
    "plt.figure(figsize=(12,12))\n",
    "\n",
    "plt.suptitle(\"Confusion Matrixes\",fontsize=25)\n",
    "plt.subplots_adjust(wspace = 0.4, hspace= 0.4)\n",
    "\n",
    "plt.subplot(2,2,1)\n",
    "plt.title(\"Pipline Confusion Matrix\",fontsize=18)\n",
    "sns.heatmap(pip_confusion,annot=True,cmap=\"Blues\", fmt=\"d\",cbar=False, annot_kws={\"size\": 24})\n",
    "plt.xlabel(\"Predicted Values\",fontsize=16)\n",
    "plt.ylabel(\"Actual Values\",fontsize=16)\n",
    "\n",
    "plt.subplot(2,2,2)\n",
    "plt.title(\"Random Forest Confusion Matrix\",fontsize=18)\n",
    "sns.heatmap(ran_confusion,annot=True,cmap=\"Greens\",fmt=\"d\",cbar=False, annot_kws={\"size\": 24})\n",
    "plt.xlabel(\"Predicted Values\",fontsize=16)\n",
    "plt.ylabel(\"Actual Values\",fontsize=16)\n",
    "\n",
    "plt.subplot(2,2,3)\n",
    "plt.title(\"Voting Confusion Matrix\",fontsize=18)\n",
    "sns.heatmap(vot_confusion,annot=True,cmap=\"Reds\",fmt=\"d\",cbar=False, annot_kws={\"size\": 24})\n",
    "plt.xlabel(\"Predicted Values\",fontsize=16)\n",
    "plt.ylabel(\"Actual Values\",fontsize=16)\n",
    "\n",
    "plt.subplot(2,2,4)\n",
    "plt.title(\"XGBoost Confusion Matrix\",fontsize=18)\n",
    "sns.heatmap(xgb_confusion,annot=True,cmap=\"Purples\",fmt=\"d\",cbar=False, annot_kws={\"size\": 24})\n",
    "plt.xlabel(\"Predicted Values\",fontsize=16)\n",
    "plt.ylabel(\"Actual Values\",fontsize=16)\n",
    "\n",
    "print(\"0=cat\", \"1=dog\")\n",
    "\n",
    "plt.show()"
   ]
  },
  {
   "cell_type": "markdown",
   "metadata": {},
   "source": [
    "#### I will check in a loop on the 5 models with the best accuracy the PCA in the range 30-40:\n",
    "#### To check if it is worth lowering the amount of columns and there will be an accuracy that is good"
   ]
  },
  {
   "cell_type": "markdown",
   "metadata": {},
   "source": [
    "## AdaBoost:"
   ]
  },
  {
   "cell_type": "code",
   "execution_count": 55,
   "metadata": {},
   "outputs": [
    {
     "data": {
      "image/png": "[encoded data removed]",
      "text/plain": [
       "<Figure size 432x288 with 1 Axes>"
      ]
     },
     "metadata": {
      "needs_background": "light"
     },
     "output_type": "display_data"
    },
    {
     "name": "stdout",
     "output_type": "stream",
     "text": [
      "the maximum  AdaBoost score is: 59.83361774744027% while n_components=32\n"
     ]
    }
   ],
   "source": [
    "arr = []\n",
    "# We will test in the 30-40 range what the best pca is:\n",
    "for i in range(30,41):\n",
    "    pca = PCA(n_components = i)\n",
    "    X_train = pca.fit_transform(x_train)\n",
    "    X_test = pca.transform(x_test)\n",
    "    explained_variance = pca.explained_variance_ratio_\n",
    "    ada = AdaBoostClassifier(n_estimators=1000, random_state=0)\n",
    "    ada.fit(X_train, y_train)\n",
    "    AdaBoostClassifier(n_estimators=1000, random_state=0)\n",
    "    ada_predict = ada.predict(X_test)\n",
    "    arr.append(accuracy_score(y_test, ada_predict)*100)\n",
    "\n",
    "# Graph showing accuracy:\n",
    "plt.plot(range(30,41), arr)\n",
    "plt.xticks(np.arange(30,41,1))\n",
    "plt.xlabel(\"n_components\")\n",
    "plt.ylabel(\"Score\")\n",
    "plt.show()\n",
    "\n",
    "ada_pca = max(arr)\n",
    "print (\"the maximum  AdaBoost score is: \" + str(ada_pca) + \"% while n_components=32\")"
   ]
  },
  {
   "cell_type": "markdown",
   "metadata": {},
   "source": [
    "## Voting:"
   ]
  },
  {
   "cell_type": "code",
   "execution_count": 56,
   "metadata": {},
   "outputs": [
    {
     "data": {
      "image/png": "[encoded data removed]",
      "text/plain": [
       "<Figure size 432x288 with 1 Axes>"
      ]
     },
     "metadata": {
      "needs_background": "light"
     },
     "output_type": "display_data"
    },
    {
     "name": "stdout",
     "output_type": "stream",
     "text": [
      "the maximum  Voting score is: 61.49744027303754% while n_components=33\n"
     ]
    }
   ],
   "source": [
    "arr = []\n",
    "# We will test in the 30-40 range what the best pca is:\n",
    "for i in range(30,41):\n",
    "    pca = PCA(n_components = i)\n",
    "    X_train = pca.fit_transform(x_train)\n",
    "    X_test = pca.transform(x_test)\n",
    "    explained_variance = pca.explained_variance_ratio_\n",
    "    clf1 = KNeighborsClassifier(n_neighbors=2)\n",
    "    clf2 = RandomForestClassifier(n_estimators=50, random_state=1)\n",
    "    clf3 = GaussianNB()\n",
    "    vot = VotingClassifier(estimators=[('lr', clf1), ('rf', clf2), ('gnb', clf3)], voting='soft')\n",
    "    vot.fit(X_train, y_train)\n",
    "    vot_predict = vot.predict(X_test)\n",
    "    arr.append(accuracy_score(y_test, vot_predict)*100)\n",
    "\n",
    "# Graph showing accuracy:\n",
    "plt.plot(range(30,41), arr)\n",
    "plt.xticks(np.arange(30,41,1))\n",
    "plt.xlabel(\"n_components\")\n",
    "plt.ylabel(\"Score\")\n",
    "plt.show()\n",
    "\n",
    "vot_pca = max(arr)\n",
    "print (\"the maximum  Voting score is: \" + str(vot_pca) + \"% while n_components=33\")"
   ]
  },
  {
   "cell_type": "markdown",
   "metadata": {},
   "source": [
    "## XGBoost:"
   ]
  },
  {
   "cell_type": "code",
   "execution_count": null,
   "metadata": {},
   "outputs": [],
   "source": [
    "arr = []\n",
    "# We will test in the 30-40 range what the best pca is:\n",
    "for i in range(30,41):\n",
    "    pca = PCA(n_components = i)\n",
    "    X_train = pca.fit_transform(x_train)\n",
    "    X_test = pca.transform(x_test)\n",
    "    explained_variance = pca.explained_variance_ratio_\n",
    "    xgb = XGBClassifier(eval_metric='mlogloss')\n",
    "    xgb.fit(X_train, y_train)\n",
    "    xgb_predict = xgb.predict(X_test)\n",
    "    xgb_accuracy = accuracy_score(y_test, xgb_predict)*100\n",
    "    arr.append(accuracy_score(y_test, xgb_predict)*100)\n",
    "\n",
    "# Graph showing accuracy:\n",
    "plt.plot(range(30,41), arr)\n",
    "plt.xticks(np.arange(30,41,1))\n",
    "plt.xlabel(\"n_components\")\n",
    "plt.ylabel(\"Score\")\n",
    "plt.show()\n",
    "\n",
    "xgb_pca = max(arr)\n",
    "print (\"the maximum  XGBoost score is: \" + str(xgb_pca) + \"% while n_components=33\")"
   ]
  },
  {
   "cell_type": "markdown",
   "metadata": {},
   "source": [
    "## Random Forest:"
   ]
  },
  {
   "cell_type": "code",
   "execution_count": null,
   "metadata": {},
   "outputs": [],
   "source": [
    "arr = []\n",
    "# We will test in the 30-40 range what the best pca is:\n",
    "for i in range(30,41):\n",
    "    pca = PCA(n_components = i)\n",
    "    X_train = pca.fit_transform(x_train)\n",
    "    X_test = pca.transform(x_test)\n",
    "    explained_variance = pca.explained_variance_ratio_\n",
    "    ran = RandomForestClassifier(max_depth=10)\n",
    "    ran.fit(X_train, y_train)\n",
    "    ran_predict = ran.predict(X_test)\n",
    "    arr.append(accuracy_score(y_test, ran_predict)*100)\n",
    "\n",
    "# Graph showing accuracy:\n",
    "plt.plot(range(30,41), arr)\n",
    "plt.xticks(np.arange(30,41,1))\n",
    "plt.xlabel(\"n_components\")\n",
    "plt.ylabel(\"Score\")\n",
    "plt.show()\n",
    "\n",
    "ran_pca = max(arr)\n",
    "print (\"the maximum  Random Forest score is: \" + str(ran_pca) + \"% while n_components=36\")"
   ]
  },
  {
   "cell_type": "markdown",
   "metadata": {},
   "source": [
    "## Pipeline:"
   ]
  },
  {
   "cell_type": "code",
   "execution_count": null,
   "metadata": {
    "scrolled": true
   },
   "outputs": [],
   "source": [
    "arr = []\n",
    "# We will test in the 30-40 range what the best pca is:\n",
    "for i in range(30,41):\n",
    "    pca = PCA(n_components = i)\n",
    "    X_train = pca.fit_transform(x_train)\n",
    "    X_test = pca.transform(x_test)\n",
    "    explained_variance = pca.explained_variance_ratio_\n",
    "    pip = Pipeline([('scaler', StandardScaler()), ('svc', SVC())])\n",
    "    pip.fit(X_train, y_train)\n",
    "    pip_predict = pip.predict(X_test)\n",
    "    arr.append(accuracy_score(y_test, pip_predict)*100)\n",
    "\n",
    "# Graph showing accuracy:\n",
    "plt.plot(range(30,41), arr)\n",
    "plt.xticks(np.arange(30,41,1))\n",
    "plt.xlabel(\"n_components\")\n",
    "plt.ylabel(\"Score\")\n",
    "plt.show()\n",
    "\n",
    "pip_pca = max(arr)\n",
    "print (\"the maximum  Pipeline score is: \" + str(pip_pca) + \"% while n_components=37\")"
   ]
  },
  {
   "cell_type": "markdown",
   "metadata": {},
   "source": [
    "## Comparison between the models after PCA 139 and after lowest PCA:"
   ]
  },
  {
   "cell_type": "code",
   "execution_count": null,
   "metadata": {},
   "outputs": [],
   "source": [
    "arrX = ['AdaBoost', 'Voting', 'XGBoost', 'Random Forest', 'Pipeline']\n",
    "arrY = [ada_accuracy, vot_accuracy, xgb_accuracy, ran_accuracy, pip_accuracy]\n",
    "arrY2 = [ada_pca, vot_pca, xgb_pca, ran_pca, pip_pca]\n",
    "plt.plot (arrX, arrY, 'r--')\n",
    "plt.plot (arrX, arrY2, 'g--')\n",
    "plt.title('accuracy score')\n",
    "plt.yticks(np.arange(50,80,5))\n",
    "plt.xlabel(\"Model\")\n",
    "plt.ylabel(\"Accuracy (%)\")\n",
    "# The red line shows the accuracy of the 5 best models after pca 139.\n",
    "# The green line shows the accuracy after smaller pca."
   ]
  },
  {
   "cell_type": "markdown",
   "metadata": {},
   "source": [
    "It can be seen that in the model with the best accuracy there is a difference of about 1% between the model after pca 139 and after pca much lower."
   ]
  },
  {
   "cell_type": "markdown",
   "metadata": {},
   "source": [
    "I will show the confusion metrix of the 4 models with the best accuracies after pca 139:"
   ]
  },
  {
   "cell_type": "markdown",
   "metadata": {},
   "source": [
    "# confusion_matrix after lower pca:"
   ]
  },
  {
   "cell_type": "code",
   "execution_count": null,
   "metadata": {},
   "outputs": [],
   "source": [
    "# Define vot_predict2 according to the pca that gives the best accuracy:\n",
    "pca = PCA(n_components = 33)\n",
    "X_train = pca.fit_transform(x_train)\n",
    "X_test = pca.transform(x_test)\n",
    "explained_variance = pca.explained_variance_ratio_\n",
    "vot.fit(X_train, y_train)\n",
    "vot_predict2 = vot.predict(X_test)\n",
    "\n",
    "# Define xgb_predict2 according to the pca that gives the best accuracy:\n",
    "xgb.fit(X_train, y_train)\n",
    "xgb_predict2 = xgb.predict(X_test)\n",
    "\n",
    "# Define ran_predict2 according to the pca that gives the best accuracy:\n",
    "pca = PCA(n_components = 36)\n",
    "X_train = pca.fit_transform(x_train)\n",
    "X_test = pca.transform(x_test)\n",
    "explained_variance = pca.explained_variance_ratio_\n",
    "ran.fit(X_train, y_train)\n",
    "ran_predict2 = ran.predict(X_test)\n",
    "\n",
    "# Define pip_predict2 according to the pca that gives the best accuracy:\n",
    "pca = PCA(n_components = 37)\n",
    "X_train = pca.fit_transform(x_train)\n",
    "X_test = pca.transform(x_test)\n",
    "explained_variance = pca.explained_variance_ratio_\n",
    "pip.fit(X_train, y_train)\n",
    "pip_predict2 = pip.predict(X_test)\n",
    "\n",
    "pip_confusion2 = metrics.confusion_matrix(y_test, pip_predict2)\n",
    "ran_confusion2 = metrics.confusion_matrix(y_test, ran_predict2)\n",
    "vot_confusion2 = metrics.confusion_matrix(y_test, vot_predict2)\n",
    "xgb_confusion2 = metrics.confusion_matrix(y_test, xgb_predict2)"
   ]
  },
  {
   "cell_type": "code",
   "execution_count": null,
   "metadata": {},
   "outputs": [],
   "source": [
    "plt.figure(figsize=(12,12))\n",
    "\n",
    "plt.suptitle(\"Confusion Matrixes\",fontsize=25)\n",
    "plt.subplots_adjust(wspace = 0.4, hspace= 0.4)\n",
    "\n",
    "plt.subplot(2,2,1)\n",
    "plt.title(\"Pipline Confusion Matrix\",fontsize=18)\n",
    "sns.heatmap(pip_confusion2,annot=True,cmap=\"Blues\", fmt=\"d\",cbar=False, annot_kws={\"size\": 24})\n",
    "plt.xlabel(\"Predicted Values\",fontsize=16)\n",
    "plt.ylabel(\"Actual Values\",fontsize=16)\n",
    "\n",
    "plt.subplot(2,2,2)\n",
    "plt.title(\"Random Forest Confusion Matrix\",fontsize=18)\n",
    "sns.heatmap(ran_confusion2,annot=True,cmap=\"Greens\",fmt=\"d\",cbar=False, annot_kws={\"size\": 24})\n",
    "plt.xlabel(\"Predicted Values\",fontsize=16)\n",
    "plt.ylabel(\"Actual Values\",fontsize=16)\n",
    "\n",
    "plt.subplot(2,2,3)\n",
    "plt.title(\"Voting Confusion Matrix\",fontsize=18)\n",
    "sns.heatmap(vot_confusion2,annot=True,cmap=\"Reds\",fmt=\"d\",cbar=False, annot_kws={\"size\": 24})\n",
    "plt.xlabel(\"Predicted Values\",fontsize=16)\n",
    "plt.ylabel(\"Actual Values\",fontsize=16)\n",
    "\n",
    "plt.subplot(2,2,4)\n",
    "plt.title(\"XGBoost Confusion Matrix\",fontsize=18)\n",
    "sns.heatmap(xgb_confusion2,annot=True,cmap=\"Purples\",fmt=\"d\",cbar=False, annot_kws={\"size\": 24})\n",
    "plt.xlabel(\"Predicted Values\",fontsize=16)\n",
    "plt.ylabel(\"Actual Values\",fontsize=16)\n",
    "\n",
    "print(\"0=cat\", \"1=dog\")\n",
    "\n",
    "plt.show()"
   ]
  },
  {
   "cell_type": "code",
   "execution_count": null,
   "metadata": {},
   "outputs": [],
   "source": []
  },
  {
   "cell_type": "code",
   "execution_count": null,
   "metadata": {},
   "outputs": [],
   "source": []
  },
  {
   "cell_type": "code",
   "execution_count": null,
   "metadata": {},
   "outputs": [],
   "source": []
  },
  {
   "cell_type": "code",
   "execution_count": null,
   "metadata": {},
   "outputs": [],
   "source": []
  }
 ],
 "metadata": {
  "kernelspec": {
   "display_name": "Python 3",
   "language": "python",
   "name": "python3"
  }
 },
 "nbformat": 4,
 "nbformat_minor": 4
}
